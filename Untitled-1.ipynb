{
 "cells": [
  {
   "cell_type": "markdown",
   "metadata": {},
   "source": [
    "#Ejercicio 1 \n"
   ]
  },
  {
   "cell_type": "markdown",
   "metadata": {},
   "source": [
    "#Definicion de la Clase tienda onlie "
   ]
  },
  {
   "cell_type": "code",
   "execution_count": 100,
   "metadata": {},
   "outputs": [],
   "source": [
    "class TiendaOnline:\n",
    "     def __init__(self,nombre):  #Definimos atributos de la clase \n",
    "      self.nombre=nombre \n",
    "      self.inventario =[] #Creamos lista vacía para almacenar los productos en el inventario[{'nombre': 'Camisa', 'precio': 20, 'cantidad': 40},{'nombre': 'Pantalón', 'precio': 30, 'cantidad': 30}]\n",
    "      self.clientes= {}   #Creamos un diccionario vacío para registro  de clientes {'Cliente1': {'email': 'cliente1@email.com', 'compras': []},'Cliente2': {'email': 'cliente2@email.com', 'compras': []}}\n",
    "      self.ventas_totales=0 #registro ventas totales.\n",
    "     \n",
    "     \n",
    "     def agregar_producto(self,nombre,precio,cantidad): #Definimos atributos de funcion \n",
    "         for producto in self.inventario:\n",
    "            if producto['nombre'] == nombre:\n",
    "                producto['cantidad'] += cantidad\n",
    "         else:\n",
    "            self.inventario.append({'nombre': nombre, 'precio': precio, 'cantidad': cantidad})\n",
    "         print(\"producto actualizado correctamente\")\n",
    "     def ver_inventario(self):\n",
    "        for producto in self.inventario:\n",
    "          print(f\"Nombre: {producto['nombre']}, Precio: {producto['precio']}, Cantidad: {producto['cantidad']}\")\n",
    "     \n",
    "     def buscar_producto_por_nombre(self,nombre):\n",
    "        for producto in self .inventario:\n",
    "         if producto[\"nombre\"]== nombre:\n",
    "          print(\"nombre producto\" ,\"precio\",\"cantidad \")\n",
    "     def actualizar_stock(self,nombre,cantidad):\n",
    "        for producto in self.inventario :\n",
    "         if producto[\"nombre\"] == nombre:\n",
    "          producto[\"cantidad\"] += cantidad\n",
    "          encontrado = True\n",
    "         if not encontrado:\n",
    "          print(\"El producto no está en el inventario\")\n",
    "\n",
    "\n",
    "      "
   ]
  }
 ],
 "metadata": {
  "kernelspec": {
   "display_name": "adalab",
   "language": "python",
   "name": "python3"
  },
  "language_info": {
   "codemirror_mode": {
    "name": "ipython",
    "version": 3
   },
   "file_extension": ".py",
   "mimetype": "text/x-python",
   "name": "python",
   "nbconvert_exporter": "python",
   "pygments_lexer": "ipython3",
   "version": "3.9.19"
  }
 },
 "nbformat": 4,
 "nbformat_minor": 2
}
