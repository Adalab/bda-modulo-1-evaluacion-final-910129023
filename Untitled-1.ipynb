{
 "cells": [
  {
   "cell_type": "markdown",
   "metadata": {},
   "source": [
    "#Ejercicio 1 \n"
   ]
  },
  {
   "cell_type": "markdown",
   "metadata": {},
   "source": [
    "#Definicion de la Clase tienda onlie "
   ]
  },
  {
   "cell_type": "code",
   "execution_count": 7,
   "metadata": {},
   "outputs": [],
   "source": [
    "class TiendaOnline:\n",
    "     def __init__(self,nombre):  #Definimos atributos de la clase \n",
    "      self.nombre=nombre \n",
    "      self.inventario =[] #Creamos lista vacía para almacenar los productos en el inventario[{'nombre': 'Camisa', 'precio': 20, 'cantidad': 40},{'nombre': 'Pantalón', 'precio': 30, 'cantidad': 30}]\n",
    "      self.clientes= {}   #Creamos un diccionario vacío para registro  de clientes {'Cliente1': {'email': 'cliente1@email.com', 'compras': []},'Cliente2': {'email': 'cliente2@email.com', 'compras': []}}\n",
    "      self.ventas_totales=0 #registro ventas totales.\n",
    "     \n",
    "     \n",
    "     def agregar_producto(self,nombre,precio,cantidad): #Definimos atributos de funcion \n",
    "         for producto in self.inventario:\n",
    "            if producto['nombre'] == nombre:\n",
    "                producto['cantidad'] += cantidad\n",
    "         else:\n",
    "            self.inventario.append({'nombre': nombre, 'precio': precio, 'cantidad': cantidad})\n",
    "         print(\"producto actualizado correctamente\")\n",
    "     \n",
    "     def ver_inventario(self):\n",
    "        for producto in self.inventario:\n",
    "          print(f\"Nombre: {producto['nombre']}, Precio: {producto['precio']}, Cantidad: {producto['cantidad']}\")\n",
    "     \n",
    "     def buscar_producto_por_nombre(self,nombre):\n",
    "        for producto in self .inventario:\n",
    "         if producto[\"nombre\"]== nombre:\n",
    "          print(\"nombre producto\" ,\"precio\",\"cantidad \")\n",
    "     \n",
    "     def actualizar_stock(self,nombre,cantidad):\n",
    "        for producto in self.inventario :\n",
    "         if producto[\"nombre\"] == nombre:\n",
    "          producto[\"cantidad\"] += cantidad\n",
    "          encontrado = True\n",
    "         if not encontrado:\n",
    "          print(\"El producto no está en el inventario\")\n",
    "\n",
    "     def eliminar_producto(self, nombre):\n",
    "         for producto  in self.inventario:\n",
    "            del self.inventario[producto]\n",
    "            print(\"Producto eliminado con éxito.\")\n",
    "         return self.nombre_deproducto \n",
    "         print(f\"El producto  ya no esta en el inventario {buscar_producto_por_nombre}.\")\n",
    "\n",
    "    \n",
    "    \n",
    "    \n",
    "    \n",
    "    \n",
    "    \n",
    "    "
   ]
  },
  {
   "cell_type": "code",
   "execution_count": 6,
   "metadata": {},
   "outputs": [
    {
     "ename": "NameError",
     "evalue": "name 'continuar_compra' is not defined",
     "output_type": "error",
     "traceback": [
      "\u001b[0;31m---------------------------------------------------------------------------\u001b[0m",
      "\u001b[0;31mNameError\u001b[0m                                 Traceback (most recent call last)",
      "Cell \u001b[0;32mIn[6], line 1\u001b[0m\n\u001b[0;32m----> 1\u001b[0m \u001b[38;5;28;01mwhile\u001b[39;00m \u001b[43mcontinuar_compra\u001b[49m:\n\u001b[1;32m      2\u001b[0m              \u001b[38;5;28mprint\u001b[39m(\u001b[38;5;124m\"\u001b[39m\u001b[38;5;124mInventario:\u001b[39m\u001b[38;5;124m\"\u001b[39m)\n\u001b[1;32m      3\u001b[0m \u001b[38;5;28;01mfor\u001b[39;00m producto, precio \u001b[38;5;129;01min\u001b[39;00m \u001b[38;5;28mself\u001b[39m\u001b[38;5;241m.\u001b[39minventario\u001b[38;5;241m.\u001b[39mitems():\n",
      "\u001b[0;31mNameError\u001b[0m: name 'continuar_compra' is not defined"
     ]
    }
   ],
   "source": [
    "while continuar_compra:\n",
    "             print(\"Inventario:\")\n",
    "for producto, precio in self.inventario.items():\n",
    "            print(producto, \" - $\", precio)\n",
    "            producto_seleccionado = input(\"Ingrese el nombre del producto que desea comprar: \")\n",
    "if producto_seleccionado in self.inventario:\n",
    "            self.carrito.append(producto_seleccionado)\n",
    "            self.inventario[producto_seleccionado] -= 1\n",
    "else:\n",
    "            print(\"El producto seleccionado no está disponible en el inventario.\")\n",
    "continuar_compra = input(\"Desea seguir comprando? (s/n): \") == 's'\n",
    "costo_total = sum([ self.inventario[producto] for producto in self.carrito])\n",
    "print(\"Compra realizada.\")\n",
    "print(\"Productos comprados:\", self.carrito)\n",
    "print(\"Costo total de la compra: $\", costo_total)"
   ]
  }
 ],
 "metadata": {
  "kernelspec": {
   "display_name": "adalab",
   "language": "python",
   "name": "python3"
  },
  "language_info": {
   "codemirror_mode": {
    "name": "ipython",
    "version": 3
   },
   "file_extension": ".py",
   "mimetype": "text/x-python",
   "name": "python",
   "nbconvert_exporter": "python",
   "pygments_lexer": "ipython3",
   "version": "3.9.19"
  }
 },
 "nbformat": 4,
 "nbformat_minor": 2
}
